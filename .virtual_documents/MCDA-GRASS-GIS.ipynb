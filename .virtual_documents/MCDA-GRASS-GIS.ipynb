














# Check GRASS instalation path
!grass --config path


# Import Python standard library and IPython packages we need.
import os
import subprocess
import sys

# Ask GRASS GIS where its Python packages are.
sys.path.append(
    subprocess.check_output(["grass", "--config", "python_path"], text=True).strip()
)

# Import the GRASS GIS packages we need.
import grass.script as gs
import grass.jupyter as gj


# Create a new location/project
#gs.run_command("g.proj",epsg=5346,location="posgar2007_4_cba",flags="c")


# Create a new mapset
#gs.run_command("g.mapset",mapset="MCDA",flags="c")


# Definition database, project, mapset
# Set data directory
homedir = "/home/tomas"

# GRASS GIS database variables
gisdata = os.path.join(homedir, "gisdata")
grassdata = os.path.join(homedir, "grassdata")
project = "posgar2007_4_cba"
mapset = "MCDA"


os.chdir(homedir)


# Start the GRASS GIS Session
session = gj.init(grassdata, project, mapset)


# check the CRS
print(gs.read_command("g.proj", flags="p"))


!g.mapset -p


# histogram
# Import required libraries
import numpy as np
import seaborn as sns
import matplotlib.pyplot as plt
from grass.script import array as garray
from IPython.display import Image


#list maps in current mapset
!g.list -m type=all


#remove layers
#!g.remove -f type=raster,vector pattern="Buildings"





# Import
gs.run_command("v.import", input=homedir+"/gisdata/GIS_MCDA/municipios_arg/municipio.shp", output="municipios")

# Extract one value from vector
gs.run_command("v.extract", input="municipios", where="gid = 1385", output="cba")

# Show attributes
gs.vector_db_select('cba')['values']


# buffer single tile

gs.run_command("v.buffer", input="cba", where="gid = 1385", distance="100",
               output="tile_cba_01km")

# show metadata
gs.vector_info("tile_cba_01km")


# display radio_urbano_cba vector
cba_map = gj.InteractiveMap(width = 400, use_region=True, tiles="OpenStreetMap")
cba_map.add_vector("tile_cba_01km")
cba_map.add_layer_control(position = "bottomright")
cba_map.show()


## guardar el vector como archivo
gs.run_command("v.out.ogr",
               input="tile_cba_01km",
               output="/home/tomas/gisdata/GIS_MCDA/AHP/vbles_100_mask2/vbles_sin_cat/tile_cba_1km.gpkg")


# set as computational region
# set the computational region to the extent of Cordoba urban area
gs.run_command("g.region",
               vector="tile_cba_01km",
               flags="p")





# Import mask
gs.run_command("v.import", input="/home/tomas/gisdata/GIS_MCDA/MaskUrban_Cba2019_Landsat08.gpkg", output="mask")


!r.mask vector=mask

















#!pip install eodag


import eodag


gs.run_command("g.extension", extension="i.eodag")


!i.eodag -l start=2022-05-01 end=2022-06-01 map=durham producttype=S2_MSI_L2A provider=cop_dataspace


gs.parse_command("i.eodag", 
                 flags="l",
                 map="tile_cba_01km", 
                 producttype="S2_MSI_L2A",
                 start="2023-06-30", 
                 end="2024-06-30", 
                 clouds="2",
                 provider="cop_dataspace",
                 sort="cloudcover,ingestiondate",
                 area_relation="Contains")


#inv= S2B_MSIL2A_20230726T141719_N0509_R010_T20JLL_20230726T182348
#pri=S2B_MSIL2A_20231014T141709_N0509_R010_T20JLL_20231014T184616
#Ver=S2A_MSIL2A_20240127T141701_N0510_R010_T20JLL_20240127T195552
#Oto=S2A_MSIL2A_20240416T141711_N0510_R010_T20JLL_20240416T215953

gs.run_command("i.eodag",
               provider="cop_dataspace",
               id="S2B_MSIL2A_20231014T141709_N0509_R010_T20JLL_20231014T184616,S2A_MSIL2A_20240127T141701_N0510_R010_T20JLL_20240127T195552,S2A_MSIL2A_20240416T141711_N0510_R010_T20JLL_20240416T215953",
               config="/home/tomas/.config/eodag/eodag.yml",
               output="/home/tomas/Desktop/Italy/Trento/GIS-MCDA/sentinel2")


!i.eodag provider=cop_dataspace id="S2A_MSIL2A_20240216T141711_N0510_R010_T20JLL_20240216T200047" config=/home/tomas/.config/eodag/eodag.yml output=/home/tomas/Desktop/Italy/Trento/GIS-MCDA/sentinel2





#!pip install sentinelsat


#gs.run_command("g.extension", extension="i.sentinel")





# list available Sentinel-2 L2A scenes for AOI
# note that we use parse_command() in order to intercept the output for display in the browser
"""gs.parse_command("i.sentinel.download", 
                 flags="l",
                 map="tile_cba_1km", 
                 producttype="S2MSI2A",
                 settings=homedir+"/gisdata/esa_credentials.txt",
                 start="2020-03-01", 
                 end="2020-04-30", 
                 clouds="30",
                 sort="cloudcoverpercentage",
                 footprints="s2_footprints",
                 area_relation="Contains")"""



# download selected scene
"""s2_data = os.path.join(homedir, "gisdata", "s2_data")

gs.run_command("i.sentinel.download", 
               settings=homedir+"/gisdata/esa_credentials.txt", 
               uuid="S2A_MSIL1C_20240324T140711_N0510_R110_T20JLL_20240324T190903.SAFE",
               output=s2_data)"""





# print bands info before importing
# (1 -proj match, 0 -no proj match)
"""gs.run_command("i.sentinel.import", 
               input="/home/tomas/gisdata", 
               flags="p")"""








#directory
sentinel_data = "/home/tomas/gisdata/GIS_MCDA/s2_data/S2A_MSIL1C_20240324T140711_N0510_R110_T20JLL_20240324T190903/"

#02:B;03:G,04:R;08:NIR
#Import each band
gs.run_command("r.import",
               input=os.path.join(sentinel_data, "T20JLL_20240324T140711_B02.jp2"),
               output="s2a_B02",
               resolution="value",
               resolution_value=10,
               extent="region")

gs.run_command("r.import",
               input=os.path.join(sentinel_data, "T20JLL_20240324T140711_B03.jp2"),
               output="s2a_B03",
               resolution="value",
               resolution_value=10,
               extent="region")

gs.run_command("r.import",
               input=os.path.join(sentinel_data, "T20JLL_20240324T140711_B04.jp2"),
               output="s2a_B04",
               resolution="value",
               resolution_value=10,
               extent="region")

gs.run_command("r.import",
               input=os.path.join(sentinel_data, "T20JLL_20240324T140711_B08.jp2"),
               output="s2a_B08",
               resolution="value",
               resolution_value=10,
               extent="region")





#directory
sentinel_data = "/home/tomas/Desktop/Italy/Trento/GIS-MCDA/sentinel2/S2A_MSIL2A_20240127T141701_N0510_R010_T20JLL_20240127T195552.SAFE/GRANULE/L2A_T20JLL_A044909_20240127T142634/IMG_DATA/R10m/"

#04:R;08:NIR
#Import each band

gs.run_command("r.import",
               input=os.path.join(sentinel_data, "T20JLL_20240127T141701_B04_10m.jp2"),
               output="s2a_B04_sum",
               resolution="value",
               resolution_value=10,
               extent="region")

gs.run_command("r.import",
               input=os.path.join(sentinel_data, "T20JLL_20240127T141701_B08_10m.jp2"),
               output="s2a_B08_sum",
               resolution="value",
               resolution_value=10,
               extent="region")





#directory
sentinel_data = "/home/tomas/Desktop/Italy/Trento/GIS-MCDA/sentinel2/S2A_MSIL2A_20240416T141711_N0510_R010_T20JLL_20240416T215953.SAFE/GRANULE/L2A_T20JLL_A046053_20240416T142404/IMG_DATA/R10m/"

#04:R;08:NIR
#Import each band

gs.run_command("r.import",
               input=os.path.join(sentinel_data, "T20JLL_20240416T141711_B04_10m.jp2"),
               output="s2a_B04_aut",
               resolution="value",
               resolution_value=10,
               extent="region")

gs.run_command("r.import",
               input=os.path.join(sentinel_data, "T20JLL_20240416T141711_B08_10m.jp2"),
               output="s2a_B08_aut",
               resolution="value",
               resolution_value=10,
               extent="region")





#directory
sentinel_data = "/home/tomas/Desktop/Italy/Trento/GIS-MCDA/sentinel2/S2B_MSIL2A_20230726T141719_N0509_R010_T20JLL_20230726T182348.SAFE/GRANULE/L2A_T20JLL_A033355_20230726T142554/IMG_DATA/R10m/"

#04:R;08:NIR
#Import each band

gs.run_command("r.import",
               input=os.path.join(sentinel_data, "T20JLL_20230726T141719_B04_10m.jp2"),
               output="s2a_B04_win",
               resolution="value",
               resolution_value=10,
               extent="region")

gs.run_command("r.import",
               input=os.path.join(sentinel_data, "T20JLL_20230726T141719_B08_10m.jp2"),
               output="s2a_B08_win",
               resolution="value",
               resolution_value=10,
               extent="region")





#directory
sentinel_data = "/home/tomas/Desktop/Italy/Trento/GIS-MCDA/sentinel2/S2B_MSIL2A_20231014T141709_N0509_R010_T20JLL_20231014T184616.SAFE/GRANULE/L2A_T20JLL_A034499_20231014T142132/IMG_DATA/R10m/"

#04:R;08:NIR
#Import each band

gs.run_command("r.import",
               input=os.path.join(sentinel_data, "T20JLL_20231014T141709_B04_10m.jp2"),
               output="s2a_B04_spr",
               resolution="value",
               resolution_value=10,
               extent="region")

gs.run_command("r.import",
               input=os.path.join(sentinel_data, "T20JLL_20231014T141709_B08_10m.jp2"),
               output="s2a_B08_spr",
               resolution="value",
               resolution_value=10,
               extent="region")


# change resolution
#set computational region, aligned with raster
gs.run_command("g.region",
               flags="ap",
               res=10
               )


cba_blue = gj.Map(width=300, use_region=True)
cba_blue.d_rast(map="s2a_B04_aut")
cba_blue.show()


# Enhance the colors
gs.run_command("i.colors.enhance",
               red="s2a_B04",
               green="s2a_B03",
               blue="s2a_B02",
               strength="95")


# Display RGB natural color using gj.Map
rgb_map = gj.Map(width=500, use_region=True)
rgb_map.d_rgb(red="s2a_B04",
              green="s2a_B03",
              blue="s2a_B02",)
rgb_map.show()


#set computational region, aligned with raster
gs.run_command("g.region",
               flags="p",
               vector="tile_cba_01km",
               align="s2a_B04",
               res=10
               )


# Visualize results in an interactive map
cba_map=gj.InteractiveMap(width = 400, tiles="OpenStreetMap", use_region=True)
cba_map.add_raster("s2a_B04")
cba_map.add_raster("s2a_B03")
cba_map.add_raster("s2a_B02")
cba_map.add_layer_control(position = "bottomright")
cba_map.show()











# Estimate vegetation index. 02:B;03:G,04:R;08:NIR
gs.run_command("i.vi", 
               red="s2a_B04", 
               nir="s2a_B08", 
               output="s2a_NDVI", 
               viname="ndvi")


#Summer
# Estimate vegetation index. 02:B;03:G,04:R;08:NIR
gs.run_command("i.vi", 
               red="s2a_B04_sum", 
               nir="s2a_B08_sum", 
               output="s2a_NDVI_sum", 
               viname="ndvi")


#Autumn
# Estimate vegetation index. 02:B;03:G,04:R;08:NIR
gs.run_command("i.vi", 
               red="s2a_B04_aut", 
               nir="s2a_B08_aut", 
               output="s2a_NDVI_aut", 
               viname="ndvi")


#Winter
# Estimate vegetation index. 02:B;03:G,04:R;08:NIR
gs.run_command("i.vi", 
               red="s2a_B04_win", 
               nir="s2a_B08_win", 
               output="s2a_NDVI_win", 
               viname="ndvi")


#Spring
# Estimate vegetation index. 02:B;03:G,04:R;08:NIR
gs.run_command("i.vi", 
               red="s2a_B04_spr", 
               nir="s2a_B08_spr", 
               output="s2a_NDVI_spr", 
               viname="ndvi")


# Visualize results in an interactive map
cba_map=gj.InteractiveMap(width = 500, tiles="OpenStreetMap", use_region=True)
cba_map.add_raster("s2a_NDVI_sum", opacity=1)
cba_map.add_raster("s2a_NDVI_aut", opacity=1)
cba_map.add_raster("s2a_NDVI_win", opacity=1)
cba_map.add_raster("s2a_NDVI_spr", opacity=1)
cba_map.add_layer_control(position = "bottomright")
cba_map.show()


# Visualize results in an static map
cba_ndvi = gj.Map(width=500, use_region=True)
cba_ndvi.d_rast(map="s2a_NDVI")
cba_ndvi.d_legend(raster="s2a_NDVI",
                  #title="NDVI", 
                  fontsize=10, 
                  at=(5, 8, 40, 95),
                  range="-1,1",
                  flags="db")
cba_ndvi.show()


# Check null cells
print(gs.read_command("r.univar",
                      map="s2a_NDVI"))


#  get info and stats
gs.raster_info(map="s2a_NDVI")





# change resolution
#set computational region, aligned with raster
gs.run_command("g.region",
               flags="ap",
               res=100
               )


!r.resamp.stats -w input=s2a_NDVI output=NDVI method=average


#save
gs.run_command("r.out.gdal",
               input="NDVI",
               output="/home/tomas/gisdata/GIS_MCDA/AHP/vbles_100_mask2/vbles_sin_cat/NDVI_sincat.tif")


### summer


!r.resamp.stats -w input=s2a_NDVI_sum output=NDVI_sum method=average


#save
gs.run_command("r.out.gdal",
               input="NDVI_sum",
               output="/home/tomas/gisdata/GIS_MCDA/AHP/vbles_100_mask2/NDVI/NDVI_sincat_sum.tif")


### autumn


!r.resamp.stats -w input=s2a_NDVI_aut output=NDVI_aut method=average


#save
gs.run_command("r.out.gdal",
               input="NDVI_aut",
               output="/home/tomas/gisdata/GIS_MCDA/AHP/vbles_100_mask2/NDVI/NDVI_sincat_aut.tif")


### winter


!r.resamp.stats -w input=s2a_NDVI_win output=NDVI_win method=average


#save
gs.run_command("r.out.gdal",
               input="NDVI_win",
               output="/home/tomas/gisdata/GIS_MCDA/AHP/vbles_100_mask2/NDVI/NDVI_sincat_win.tif")


### spring


!r.resamp.stats -w input=s2a_NDVI_spr output=NDVI_spr method=average


#save
gs.run_command("r.out.gdal",
               input="NDVI_spr",
               output="/home/tomas/gisdata/GIS_MCDA/AHP/vbles_100_mask2/NDVI/NDVI_sincat_spr.tif")


#  get info and stats
gs.raster_info(map="NDVI_spr")








gs.mapcalc(exp="NDVI_100=if(NDVI <= 0.2, 0.5, if(NDVI <= 0.4, 0.75, if(NDVI <= 0.6, 1, if(NDVI <= 0.8, 0.25, if(NDVI > 0.8, 0)))))")


# summer
gs.mapcalc(exp="NDVI_100_sum=if(NDVI_sum <= 0.2, 0.5, if(NDVI_sum <= 0.4, 0.75, if(NDVI_sum <= 0.6, 1, if(NDVI_sum <= 0.8, 0.25, if(NDVI_sum > 0.8, 0)))))")


cba_blue = gj.Map(width=300, use_region=True)
cba_blue.d_rast(map="NDVI_100_sum")
cba_blue.show()


cba_blue = gj.Map(width=300, use_region=True)
cba_blue.d_rast(map="NDVI_100_sum")
cba_blue.show()


#save
gs.run_command("r.out.gdal",
               input="NDVI_100_sum",
               output="/home/tomas/gisdata/GIS_MCDA/AHP/vbles_100_mask2/NDVI/NDVI_100_sum.tif")


# autumn
gs.mapcalc(exp="NDVI_100_aut=if(NDVI_aut <= 0.2, 0.5, if(NDVI_aut <= 0.4, 0.75, if(NDVI_aut <= 0.6, 1, if(NDVI_aut <= 0.8, 0.25, if(NDVI_aut > 0.8, 0)))))")


#save
gs.run_command("r.out.gdal",
               input="NDVI_100_aut",
               output="/home/tomas/gisdata/GIS_MCDA/AHP/vbles_100_mask2/NDVI/NDVI_100_aut.tif")


# winter
gs.mapcalc(exp="NDVI_100_win=if(NDVI_win <= 0.2, 0.5, if(NDVI_win <= 0.4, 0.75, if(NDVI_win <= 0.6, 1, if(NDVI_win <= 0.8, 0.25, if(NDVI_win > 0.8, 0)))))")


#save
gs.run_command("r.out.gdal",
               input="NDVI_100_win",
               output="/home/tomas/gisdata/GIS_MCDA/AHP/vbles_100_mask2/NDVI/NDVI_100_win.tif")


# spring
gs.mapcalc(exp="NDVI_100_spr=if(NDVI_spr <= 0.2, 0.5, if(NDVI_spr <= 0.4, 0.75, if(NDVI_spr <= 0.6, 1, if(NDVI_spr <= 0.8, 0.25, if(NDVI_spr > 0.8, 0)))))")


#save
gs.run_command("r.out.gdal",
               input="NDVI_100_spr",
               output="/home/tomas/gisdata/GIS_MCDA/AHP/vbles_100_mask2/NDVI/NDVI_100_spr.tif")


# Check null cells
print(gs.read_command("r.univar",
                      map="NDVI"))


# Visualize results in an static map
cba_ndvi = gj.Map(width=500, use_region=True)
cba_ndvi.d_rast(map="NDVI_100")
cba_ndvi.d_legend(raster="NDVI_100",
                  #title="NDVI", 
                  fontsize=10, 
                  at=(5, 8, 40, 95),
                  range="0,1",
                  flags="db")
cba_ndvi.show()


#  get info and stats
gs.raster_info(map="NDVI_100")





#save
gs.run_command("r.out.gdal",
               input="NDVI_100",
               output="/home/tomas/gisdata/GIS_MCDA/AHP/vbles_100_mask2/NDVI_100.tif")

















# change resolution
#set computational region, aligned with raster
gs.run_command("g.region",
               flags="ap",
               res=5
               )


#import DEM
gs.run_command("r.import",
               input=os.path.join(homedir+"/gisdata/GIS_MCDA/dem_5m_cba_ext.tif"),
               output="DEM_5m",
               resolution="value",
               resolution_value=5,
               extent="region")


#set computational region, aligned with raster
gs.run_command("g.region",
               flags="p",
               vector="tile_cba_01km",
               align="DEM_5m",
               res=5
               )


# Visualize results in an interactive map
dem_map=gj.InteractiveMap(width = 400, tiles="OpenStreetMap", use_region=True)
dem_map.add_raster("DEM_5m")
dem_map.add_layer_control(position = "bottomright")
dem_map.show()


# check values
print(gs.read_command("r.univar",
                      map="DEM_5m"))





#import FABDEM
gs.run_command("r.import",
               input=os.path.join(homedir+"/gisdata/GIS_MCDA/S32W065_FABDEM_V1-2.tif"),
               output="FABDEM_30m",
               resolution="value",
               resolution_value=30,
               extent="region")


# Visualize results in an interactive map
fabdem_map=gj.InteractiveMap(width = 400, tiles="CartoDB positron", use_region=True)
fabdem_map.add_raster("FABDEM_30m")
fabdem_map.add_layer_control(position = "bottomright")
fabdem_map.show()


#  get info and stats
gs.raster_info(map="FABDEM_30m")





#r.resamp.interp - Resamples raster map to a finer grid using interpolation.
!r.resamp.interp input=FABDEM_30m output=FABDEM_5m method=bilinear


# Visualize results in an interactive map
fabdem_map=gj.InteractiveMap(width = 400, tiles="CartoDB positron", use_region=True)
fabdem_map.add_raster("FABDEM_5m")
fabdem_map.add_layer_control(position = "bottomright")
fabdem_map.show()


#  get info and stats
gs.raster_info(map="FABDEM_5m")





gs.mapcalc(exp="Building_height=(DEM_5m - FABDEM_5m)")


# Visualize results in an interactive map
map=gj.InteractiveMap(width = 500, tiles="CartoDB positron", use_region=True)
map.add_raster("FABDEM_5m")
map.add_raster("DEM_5m")
map.add_raster("Building_height")
map.add_layer_control(position = "bottomright")
map.show()


# check values
print(gs.read_command("r.univar",
                      map="Building_height"))


# Read as numpy array
build = garray.array(mapname="Building_height", null="nan")
print(build.shape)

# Plot
sns.set_style('darkgrid')
fig, axs = plt.subplots(figsize=(10, 4))
sns.histplot(ax=axs, data=build.ravel(), kde=True)
axs.set_title('Histograma de Building_height')
plt.show()


# Replace negative values by 0
gs.mapcalc(exp="Building_height_0=if(Building_height<0,0,Building_height)")


# check values
print(gs.read_command("r.univar",
                      map="Building_height_0"))


# Read as numpy array
build0 = garray.array(mapname="Building_height_0", null="nan")
print(build0.shape)

# Plot
sns.set_style('darkgrid')
fig, axs = plt.subplots(figsize=(10, 4))
sns.histplot(ax=axs, data=build0.ravel(), kde=True)
axs.set_ylim(0,100)
axs.set_title('Histograma de Building_height_0 - ylim:0,100')
plt.show()


# Visualize results in an interactive map
map=gj.InteractiveMap(width = 500, tiles="CartoDB positron", use_region=True)
map.add_raster("Building_height_0")
map.add_layer_control(position = "bottomright")
map.show()


#save
"""
gs.run_command("r.out.gdal",
               input="Building_height_0",
               output="/home/tomas/gisdata/GIS_MCDA/buildings/Building_height_0.tif")"""








# Import
gs.run_command("v.import", input=homedir+"/gisdata/GIS_MCDA/open_buildings_cba_5346.gpkg", extent="region", output="open_buildings", epsg="5346")


# to extract values of AOI (I did this in QGIS)
#v.clip


# show metadata
gs.vector_info("open_buildings")


!v.info map=open_buildings


ob = gj.Map(width=500, use_region=True)
ob.d_vect(map="open_buildings", type="boundary", color="yellow")
ob.show()


## NO ANDA

# display open_buildings vector
"""ob_map = gj.InteractiveMap(width = 1000, use_region=True, tiles="OpenStreetMap")
ob_map.add_vector("open_buildings")
ob_map.add_layer_control(position = "bottomright")
#ob_map.save("prueba.html")
ob_map.show()"""








# Extract the maximum height of buildings in each open buildings polygon
gs.run_command("v.rast.stats",
               map="open_buildings",
               raster="Building_height_0",
               column_prefix="building_height",
               method="maximum")


# show metadata
!v.info map=open_buildings -c


### Rasterise results based on the new column
gs.run_command("v.to.rast",
               input="open_buildings",
               use="attr",
               attribute_column="building_height_maximum",
               output="building_height_max",
               type="area",
               memory=12000)


# check values
print(gs.read_command("r.univar",
                      map="building_height_max"))


# Visualize results in an static map
cba_ndvi_reclass = gj.Map(width=500, use_region=True)
cba_ndvi_reclass.d_rast(map="building_height_max")
cba_ndvi_reclass.d_legend(raster="building_height_max", color="black",fontsize=10, 
                  at=(95,80, 3, 6))
cba_ndvi_reclass.show()


# change null values (places where there are no open building polygons) to 999
#!r.null map="building_height_max" null=999


# check values
#print(gs.read_command("r.univar",map="building_height_max"))


# Set the color palette
gs.run_command("r.colors",
               map="building_height_max",
               color="haxby")


# Visualize results in an interactive map
cba_map=gj.InteractiveMap(width = 400, tiles="OpenStreetMap", use_region=True)
cba_map.add_raster("building_height_max")
cba_map.add_layer_control(position = "bottomright")
cba_map.show()


#save
"""
gs.run_command("r.out.gdal",
               input="building_height_max",
               output="/home/tomas/gisdata/GIS_MCDA/buildings/building_height_max.tif")"""


#import building_height_max.tif
"""
gs.run_command("r.import",
               input=os.path.join("/home/tomas/gisdata/GIS_MCDA/buildings/building_height_max.tif"),
               output="building_height_max",
               resolution="value",
               resolution_value=5,
               extent="region")"""





# change resolution
#set computational region, aligned with raster
gs.run_command("g.region",
               flags="ap",
               res=100
               )


!r.resamp.stats -w input=building_height_max output=Buildings method=average


# Visualize results in an static map
cba_ndvi = gj.Map(width=500, use_region=True)
cba_ndvi.d_rast(map="Buildings")
cba_ndvi.show()


# Visualize results in an interactive map
cba_map=gj.InteractiveMap(width = 400, tiles="OpenStreetMap", use_region=True)
cba_map.add_raster("Buildings")
cba_map.add_layer_control(position = "bottomright")
cba_map.show()


#save
gs.run_command("r.out.gdal",
               input="Buildings",
               output="/home/tomas/gisdata/GIS_MCDA/AHP/vbles_100_mask2/vbles_sin_cat/Buildings_sincat.tif")





#gs.mapcalc(exp="Buildings=if(building_height_max <= 10, 1, if(building_height_max <= 20, 0.75, if(building_height_max <= 30, 0.50, if(building_height_max <= 70, 0.25, if(building_height_max = null, 0)))))")
gs.mapcalc(exp="Buildings_100=if(Buildings <= 10, 1, if(Buildings <= 20, 0.75, if(Buildings <= 30, 0.50, if(Buildings <= 70, 0.25))))")


# Visualize results in an interactive map
cba_map=gj.InteractiveMap(width = 400, tiles="OpenStreetMap", use_region=True)
cba_map.add_raster("Buildings_100")
cba_map.add_layer_control(position = "bottomright")
cba_map.show()


# Read as numpy array
build = garray.array(mapname="Buildings_100", null="nan")
print(build.shape)

# Plot
sns.set_style('darkgrid')
fig, axs = plt.subplots(figsize=(10, 4))
sns.histplot(ax=axs, data=build.ravel(), kde=True)
axs.set_title('Histograma de Buildings_100')
plt.show()


# change null values to 0
!r.null map="Buildings_100" null=0


# Read as numpy array
build = garray.array(mapname="Buildings_100", null="nan")
print(build.shape)

# Plot
sns.set_style('darkgrid')
fig, axs = plt.subplots(figsize=(10, 4))
sns.histplot(ax=axs, data=build.ravel(), kde=True)
axs.set_title('Histograma de Buildings_100')
plt.show()


#gs.mapcalc(exp="Buildings=if(building_height_max>=0&&building_height_max<=10,1,building_height_max)")
#gs.mapcalc(exp="Buildings=if(Buildings==999,0,Buildings)")
#gs.mapcalc(exp="Buildings=if(Buildings>10&&Buildings<=20,0.75,Buildings)")
#gs.mapcalc(exp="Buildings=if(Buildings>20&&Buildings<=30,0.50,Buildings)")
#gs.mapcalc(exp="Buildings=if(Buildings>30&&Buildings<=70,0.25,Buildings)")


# Check null cells
print(gs.read_command("r.univar",
                      map="Buildings_100"))


# Visualize results in an static map
cba_ndvi = gj.Map(width=500, use_region=True)
cba_ndvi.d_rast(map="Buildings_100")
cba_ndvi.d_legend(raster="Buildings_100",
                  #title="NDVI", 
                  fontsize=10, 
                  at=(5, 8, 40, 95),
                  range="0,1",
                  flags="db")
cba_ndvi.show()


# Visualize results in an interactive map
cba_map=gj.InteractiveMap(width = 500, tiles="OpenStreetMap", use_region=True)
cba_map.add_raster("Buildings_100")
cba_map.add_layer_control(position = "bottomright")
cba_map.show()


#  get info and stats
gs.raster_info(map="Buildings")





#save
gs.run_command("r.out.gdal",
               input="Buildings_100",
               output="/home/tomas/gisdata/GIS_MCDA/AHP/vbles_100_mask2/Buildings_100.tif")








#import data
gs.run_command("r.import",
               input=os.path.join("/home/tomas/gisdata/GIS_MCDA/population/worlpop/unconstrained_100_2020_UNadj/arg_ppp_2020_UNadj.tif"),
               output="population_density",
               resolution="value",
               resolution_value=100,
               extent="region")


#  get info and stats
gs.raster_info(map="population_density")


# Check null cells
print(gs.read_command("r.univar",
                      map="population_density"))


# change null values to 0
! r.null map="population_density" null=0


# change resolution
#set computational region, aligned with raster
gs.run_command("g.region",
               flags="ap",
               res=100
               )


#save
gs.run_command("r.out.gdal",
               input="population_density",
               output="/home/tomas/gisdata/GIS_MCDA/AHP/vbles_100_mask2/vbles_sin_cat/People_sincat.tif")





gs.mapcalc(exp="People_100=if(population_density<=10,0, if(population_density<=20,0.25, if(population_density<=30,0.50, if(population_density<=40,0.75, if(population_density>40,1, 0)))))")


#gs.mapcalc(exp="People_100=if(population_density<=10,0,population_density)") 
#gs.mapcalc(exp="People_100=if(People_100>10&&People_100<=20,0.25,People_100)")
#gs.mapcalc(exp="People_100=if(People_100>20&&People_100<=30,0.50,People_100)")
#gs.mapcalc(exp="People_100=if(People_100>30&&People_100<=40,0.75,People_100)")
#gs.mapcalc(exp="People_100=if(People_100>40,1,People_100)")


# Check null cells
print(gs.read_command("r.univar",
                      map="People_100"))


# Visualize results in an static map
cba_ndvi = gj.Map(width=500, use_region=True)
cba_ndvi.d_rast(map="People_100")
cba_ndvi.d_legend(raster="People_100",
                  #title="NDVI", 
                  fontsize=10, 
                  at=(5, 8, 40, 95),
                  range="0,1",
                  flags="db")
cba_ndvi.show()


#save
gs.run_command("r.out.gdal",
               input="People_100",
               output="/home/tomas/gisdata/GIS_MCDA/AHP/vbles_100_mask2/People_100.tif")











# change resolution
#set computational region, aligned with raster
gs.run_command("g.region",
               flags="ap",
               res=100
               )


# Import
gs.run_command("v.import", input="/home/tomas/gisdata/GIS_MCDA/socioeconomic/NBI_radios_2010/NBI_perc.gpkg", output="NBI")


### Rasterise results based on the new column
gs.run_command("v.to.rast",
               input="NBI",
               use="attr",
               attribute_column="H_NBI_prop",
               output="NBI_prop",
               type="area",
               memory=12000)


# Visualize results in an static map
cba_ndvi = gj.Map(width=500, use_region=True)
cba_ndvi.d_rast(map="NBI_prop")
cba_ndvi.d_legend(raster="NBI_prop",
                  #title="NDVI", 
                  fontsize=10, 
                  at=(5, 8, 40, 95),
                  flags="db")
cba_ndvi.show()


# Check null cells
print(gs.read_command("r.univar",
                      map="NBI_prop"))


# change null values to 0
! r.null map="NBI_prop" null=0


# Check null cells
print(gs.read_command("r.univar",
                      map="NBI_prop"))


# Visualize results in an static map
cba_ndvi = gj.Map(width=500, use_region=True)
cba_ndvi.d_rast(map="NBI_prop")
cba_ndvi.d_legend(raster="NBI_prop",
                  #title="NDVI", 
                  fontsize=10, 
                  at=(5, 8, 40, 95),
                  #range="0,1",
                  flags="db")
cba_ndvi.show()


#save
gs.run_command("r.out.gdal",
               input="NBI_prop",
               output="/home/tomas/gisdata/GIS_MCDA/AHP/vbles_100_mask2/vbles_sin_cat/NBI_sincat.tif")





#Categorise
gs.mapcalc(exp="NBI_100=if(NBI_prop <= 0.050, 0, if(NBI_prop <= 0.100, 0.25, if(NBI_prop <= 0.150, 0.50, if(NBI_prop <= 0.250, 0.75, 1))))")


# Visualize results in an static map
cba_ndvi = gj.Map(width=500, use_region=True)
cba_ndvi.d_rast(map="NBI_100")
cba_ndvi.d_legend(raster="NBI_100",
                  #title="NDVI", 
                  fontsize=10, 
                  at=(5, 8, 40, 95),
                  range="0,1",
                  flags="db")
cba_ndvi.show()


# Visualize results in an interactive map
cba_map=gj.InteractiveMap(width = 400, tiles="OpenStreetMap", use_region=True)
cba_map.add_raster("NBI_100")
cba_map.add_layer_control(position = "bottomright")
cba_map.show()


#  get info and stats
gs.raster_info(map="NBI_100")


#save
gs.run_command("r.out.gdal",
               input="NBI_100",
               output="/home/tomas/gisdata/GIS_MCDA/AHP/vbles_100_mask2/NBI_100.tif")








# change resolution
#set computational region, aligned with raster
gs.run_command("g.region",
               flags="ap",
               res=100
               )


#list maps in current mapset
!g.list type=raster


####r.mcda.ahp SUMMER
!r.mcda.ahp criteria=NDVI_100_sum@MCDA,Buildings_100@MCDA,People_100@MCDA,NBI_100@MCDA pairwise="/home/tomas/gisdata/GIS_MCDA/AHP/test21/pairwise.csv" output=out_test21_sum


#save
gs.run_command("r.out.gdal",
               input="out_test21_sum",
               output="/home/tomas/gisdata/GIS_MCDA/AHP/test21/out_test21_sum.tif")


####r.mcda.ahp AUTUMN
!r.mcda.ahp criteria=NDVI_100_aut@MCDA,Buildings_100@MCDA,People_100@MCDA,NBI_100@MCDA pairwise="/home/tomas/gisdata/GIS_MCDA/AHP/test21/pairwise.csv" output=out_test21_aut


#save
gs.run_command("r.out.gdal",
               input="out_test21_aut",
               output="/home/tomas/gisdata/GIS_MCDA/AHP/test21/out_test21_aut.tif")


####r.mcda.ahp WINTER
!r.mcda.ahp criteria=NDVI_100_win@MCDA,Buildings_100@MCDA,People_100@MCDA,NBI_100@MCDA pairwise="/home/tomas/gisdata/GIS_MCDA/AHP/test21/pairwise.csv" output=out_test21_win


#save
gs.run_command("r.out.gdal",
               input="out_test21_win",
               output="/home/tomas/gisdata/GIS_MCDA/AHP/test21/out_test21_win.tif")


####r.mcda.ahp SPRING
!r.mcda.ahp criteria=NDVI_100_spr@MCDA,Buildings_100@MCDA,People_100@MCDA,NBI_100@MCDA pairwise="/home/tomas/gisdata/GIS_MCDA/AHP/test21/pairwise.csv" output=out_test21_spr


#save
gs.run_command("r.out.gdal",
               input="out_test21_spr",
               output="/home/tomas/gisdata/GIS_MCDA/AHP/test21/out_test21_spr.tif")





#save
gs.run_command("r.out.gdal",
               input="out_test22",
               output="/home/tomas/gisdata/GIS_MCDA/AHP/test22/out_test22.tif")





# set color table created (with txt)
'''
gs.run_command("r.colors",
               map="out_test7",
               rules="/home/tomas/gisdata/GIS_MCDA/colors_grass.txt")'''


# set color palette
gs.run_command("r.colors", 
               map="out_test22", 
               color="magma")





# Visualize results in an static map
cba_ndvi = gj.Map(width=500, use_region=True)
cba_ndvi.d_rast(map="out_test22")
cba_ndvi.show()


# Visualize results in an interactive map
cba_map=gj.InteractiveMap(width = 500, tiles="OpenStreetMap", use_region=True)
cba_map.add_raster("out_test14", opacity=0.8)
cba_map.add_layer_control(position = "bottomright")
cba_map.show()





MCDA weighted
Winter (2023-07-26): 0.000541374868453636
Spring (2023-10-14): 0.00391822286861647
Summer (2024-01-27): 0.726609011779059
Autumn (2024-04-16): 0.290955056898868
out_test21_aut
out_test21_spr
out_test21_sum
out_test21_win


#winter
gs.mapcalc(exp="MCDA_weighted_win=out_test21_win * 0.00054")


#save
gs.run_command("r.out.gdal",
               input="MCDA_weighted_win",
               output="/home/tomas/gisdata/GIS_MCDA/AHP/test21/MCDA_weighted/MCDA_weighted_win.tif")


#Spring
gs.mapcalc(exp="MCDA_weighted_spr=out_test21_spr * 0.00391")


#save
gs.run_command("r.out.gdal",
               input="MCDA_weighted_spr",
               output="/home/tomas/gisdata/GIS_MCDA/AHP/test21/MCDA_weighted/MCDA_weighted_spr.tif")


#Summer
gs.mapcalc(exp="MCDA_weighted_sum=out_test21_sum * 0.72660")


#save
gs.run_command("r.out.gdal",
               input="MCDA_weighted_sum",
               output="/home/tomas/gisdata/GIS_MCDA/AHP/test21/MCDA_weighted/MCDA_weighted_sum.tif")


#Autumn
gs.mapcalc(exp="MCDA_weighted_aut=out_test21_aut * 0.29095")


#save
gs.run_command("r.out.gdal",
               input="MCDA_weighted_aut",
               output="/home/tomas/gisdata/GIS_MCDA/AHP/test21/MCDA_weighted/MCDA_weighted_aut.tif")
